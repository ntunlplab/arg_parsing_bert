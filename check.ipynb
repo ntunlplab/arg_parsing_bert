{
 "cells": [
  {
   "cell_type": "code",
   "execution_count": 1,
   "metadata": {},
   "outputs": [],
   "source": [
    "import torch\n",
    "import json"
   ]
  },
  {
   "cell_type": "code",
   "execution_count": 2,
   "metadata": {},
   "outputs": [],
   "source": [
    "data = []\n",
    "with open('./../preprocess/parsing/CMV_hidey.jsons') as f:\n",
    "    f.readline()\n",
    "    for line in f:\n",
    "        data.append(json.loads(line))\n",
    "total = []\n",
    "data_mapping = []\n",
    "for index, _ in enumerate(data):\n",
    "    prev = len(total)\n",
    "    total.extend(_['bio'])\n",
    "    new = len(total)\n",
    "    data_mapping.append(index)\n",
    "pred = torch.load('./pred')"
   ]
  },
  {
   "cell_type": "code",
   "execution_count": 3,
   "metadata": {},
   "outputs": [],
   "source": [
    "mapping = {\n",
    "    'B':0,\n",
    "    'I':1,\n",
    "    'O':2\n",
    "}"
   ]
  },
  {
   "cell_type": "code",
   "execution_count": 11,
   "metadata": {},
   "outputs": [],
   "source": [
    "p, l, cut = [], [], []\n",
    "for index in range(len(pred['recover'])):\n",
    "    bios = pred['bio'][index][1:]\n",
    "    recovers = pred['recover'][index].tolist()[1:]\n",
    "    \n",
    "    count = {bios[0]:1}\n",
    "    cut.append([])\n",
    "    for bio, re in zip(bios[1:], recovers[1:]):\n",
    "        if(re==0 ):\n",
    "            count = sorted([(key, val) for key, val in count.items()], key=lambda x:x[1], reverse=True)\n",
    "            p.append(count[0][0])\n",
    "            cut[-1].append(count[0][0])\n",
    "            count = {}\n",
    "            \n",
    "        try:\n",
    "            count[bio] += 1\n",
    "        except:\n",
    "            count[bio] = 1\n",
    "    else:\n",
    "        count = sorted([(key, val) for key, val in count.items()], key=lambda x:x[1], reverse=True)\n",
    "        p.append(count[0][0])\n",
    "        cut[-1].append(count[0][0])\n",
    "    for _ in total[index].split():\n",
    "        l.append(mapping[_])"
   ]
  },
  {
   "cell_type": "code",
   "execution_count": 5,
   "metadata": {},
   "outputs": [
    {
     "data": {
      "text/plain": [
       "78921"
      ]
     },
     "execution_count": 5,
     "metadata": {},
     "output_type": "execute_result"
    }
   ],
   "source": [
    "len(p)"
   ]
  },
  {
   "cell_type": "code",
   "execution_count": 6,
   "metadata": {},
   "outputs": [],
   "source": [
    "from sklearn.metrics import f1_score"
   ]
  },
  {
   "cell_type": "code",
   "execution_count": 7,
   "metadata": {},
   "outputs": [
    {
     "data": {
      "text/plain": [
       "0.8497742178693116"
      ]
     },
     "execution_count": 7,
     "metadata": {},
     "output_type": "execute_result"
    }
   ],
   "source": [
    "f1_score(l, p, average='macro')"
   ]
  },
  {
   "cell_type": "code",
   "execution_count": 14,
   "metadata": {},
   "outputs": [
    {
     "data": {
      "text/plain": [
       "'0 1 1 1 1 1 1 1 1 1 1 1 1 1 1 1 1 1 1 1 1 1 1 1 1 1 1 2 0 1 1 1 1 1 1 1 1 2 2 0 1 1 1 1 1 1 1 1 1 1 1 1 1 1 1 1 1 1 1 2 0 1 1 1 1 1 1 2'"
      ]
     },
     "execution_count": 14,
     "metadata": {},
     "output_type": "execute_result"
    }
   ],
   "source": [
    "' '.join([str(_) for _ in cut[0]])"
   ]
  },
  {
   "cell_type": "code",
   "execution_count": 23,
   "metadata": {},
   "outputs": [
    {
     "name": "stdout",
     "output_type": "stream",
     "text": [
      "B 0 surrounding\n",
      "I 1 the\n",
      "I 1 entire\n",
      "I 1 site\n",
      "I 1 there\n",
      "I 1 's\n",
      "I 1 a\n",
      "I 1 general\n",
      "I 1 pessimistic\n",
      "I 1 group\n",
      "I 1 mentality\n",
      "O 1 ,\n",
      "O 1 and\n",
      "B 0 people\n",
      "I 1 are\n",
      "I 1 subconsciously\n",
      "I 1 encouraged\n",
      "I 1 to\n",
      "I 1 take\n",
      "I 1 part\n",
      "I 1 of\n",
      "I 1 it\n",
      "I 1 in\n",
      "I 1 order\n",
      "I 1 to\n",
      "I 1 feel\n",
      "I 1 like\n",
      "I 1 they\n",
      "I 1 are\n",
      "I 1 a\n",
      "I 1 part\n",
      "I 1 of\n",
      "I 1 the\n",
      "I 1 group\n",
      "O 2 .\n",
      "B 0 some\n",
      "I 1 boards\n",
      "I 1 will\n",
      "I 1 have\n",
      "I 1 specific\n",
      "I 1 groups\n",
      "I 1 of\n",
      "I 1 people\n",
      "I 1 who\n",
      "I 1 they\n",
      "I 1 are\n",
      "I 1 encouraged\n",
      "I 1 to\n",
      "I 1 hate\n",
      "I 1 ,\n",
      "I 1 women\n",
      "I 1 ,\n",
      "I 1 sjws\n",
      "I 1 ,\n",
      "I 1 casual\n",
      "I 1 gamers\n",
      "I 1 ,\n",
      "I 1 jews\n",
      "O 1 ,\n",
      "O 1 and\n",
      "B 1 any\n",
      "I 1 reasonable\n",
      "I 1 argument\n",
      "I 1 against\n",
      "I 1 a\n",
      "I 1 poster\n",
      "I 1 can\n",
      "I 1 be\n",
      "I 1 made\n",
      "I 1 redundant\n",
      "I 1 by\n",
      "I 1 saying\n",
      "I 1 or\n",
      "I 1 thinking\n",
      "I 1 they\n",
      "I 1 are\n",
      "I 1 a\n",
      "I 1 part\n",
      "I 1 of\n",
      "I 1 these\n",
      "I 1 agendas\n",
      "I 1 or\n",
      "I 1 groups\n",
      "O 2 .\n"
     ]
    }
   ],
   "source": [
    "sent = \"surrounding the entire site there 's a general pessimistic group mentality , and people are subconsciously encouraged to take part of it in order to feel like they are a part of the group . some boards will have specific groups of people who they are encouraged to hate , women , sjws , casual gamers , jews , and any reasonable argument against a poster can be made redundant by saying or thinking they are a part of these agendas or groups .\"\n",
    "index = 1\n",
    "for b, c, w in zip(total[index].split(), cut[index], sent.split()):\n",
    "    print(b, c, w)"
   ]
  },
  {
   "cell_type": "code",
   "execution_count": null,
   "metadata": {},
   "outputs": [],
   "source": []
  }
 ],
 "metadata": {
  "kernelspec": {
   "display_name": "Python 3",
   "language": "python",
   "name": "python3"
  },
  "language_info": {
   "codemirror_mode": {
    "name": "ipython",
    "version": 3
   },
   "file_extension": ".py",
   "mimetype": "text/x-python",
   "name": "python",
   "nbconvert_exporter": "python",
   "pygments_lexer": "ipython3",
   "version": "3.7.3"
  }
 },
 "nbformat": 4,
 "nbformat_minor": 2
}
